{
 "cells": [
  {
   "cell_type": "code",
   "execution_count": null,
   "id": "f894babd",
   "metadata": {},
   "outputs": [],
   "source": [
    "# skin detection algorithm using Python and image processing techniques."
   ]
  },
  {
   "cell_type": "code",
   "execution_count": null,
   "id": "86c40367",
   "metadata": {},
   "outputs": [],
   "source": [
    "#Implement a skin detection algorithm using Python and image processing techniques.\n",
    "#You will apply the algorithm to identify and highlight skin regions in an image.\n",
    "\n"
   ]
  },
  {
   "cell_type": "code",
   "execution_count": null,
   "id": "0a4711da",
   "metadata": {},
   "outputs": [],
   "source": [
    "import cv2\n",
    "import numpy as np\n",
    "\n",
    "\n",
    "def preprocess_image(image_path):\n",
    "    image = cv2.imread(image_path)\n",
    "    color_spaces = [cv2.COLOR_BGR2HSV, cv2.COLOR_BGR2YCrCb]\n",
    "    processed_images = [cv2.cvtColor(image, color_space) for color_space in color_spaces]\n",
    "    return [image] + processed_images\n",
    "\n",
    "\n",
    "def create_skin_mask(image, lower_range, upper_range):\n",
    "    skin_mask = cv2.inRange(image, lower_range, upper_range)\n",
    "    skin_mask = cv2.morphologyEx(skin_mask, cv2.MORPH_OPEN, np.ones((3, 3), np.uint8))\n",
    "    return skin_mask\n",
    "\n",
    "\n",
    "def combine_masks(mask1, mask2):\n",
    "    combined_mask = cv2.addWeighted(mask1, 0.5, mask2, 0.5, 0)\n",
    "    combined_mask = cv2.GaussianBlur(combined_mask, (3, 3), 0)\n",
    "    combined_mask = cv2.erode(combined_mask, np.ones((14, 4), np.uint8), iterations=1)\n",
    "    return combined_mask\n",
    "\n",
    "\n",
    "def apply_skin_detection(image, skin_mask):\n",
    "    skin_detection_result = np.where(skin_mask[:, :, np.newaxis] > 0, image, 0).astype(np.uint8)\n",
    "    return skin_detection_result\n",
    "\n",
    "\n",
    "def main():\n",
    "    image_path = \"C:/Users/Admin/Downloads/gagarin_2.jpg\"\n",
    "    image, hsv_image, ycrcb_image = preprocess_image(image_path)\n",
    "\n",
    "    hsv_lower = np.array([0, 15, 0], np.uint8)\n",
    "    hsv_upper = np.array([17, 178, 255], np.uint8)\n",
    "    hsv_mask = create_skin_mask(hsv_image, hsv_lower, hsv_upper)\n",
    "\n",
    "    ycrcb_lower = np.array([0, 135, 85], np.uint8)\n",
    "    ycrcb_upper = np.array([255, 180, 135], np.uint8)\n",
    "    ycrcb_mask = create_skin_mask(ycrcb_image, ycrcb_lower, ycrcb_upper)\n",
    "\n",
    "    combined_mask = combine_masks(ycrcb_mask, hsv_mask)\n",
    "\n",
    "    hsv_result = apply_skin_detection(image, hsv_mask)\n",
    "    ycrcb_result = apply_skin_detection(image, ycrcb_mask)\n",
    "    combined_result = apply_skin_detection(image, combined_mask)\n",
    "\n",
    "    cv2.imshow(\"Original Image\", image)\n",
    "    cv2.imshow(\"HSV Skin Detection\", hsv_result)\n",
    "    cv2.imshow(\"YCrCb Skin Detection\", ycrcb_result)\n",
    "    cv2.imshow(\"Combined Skin Detection\", combined_result)\n",
    "    \n",
    "    while True:\n",
    "        key = cv2.waitKey(1) & 0xFF\n",
    "        if key == ord('q'):  # Press 'q' to exit the loop\n",
    "            break\n",
    "\n",
    "    cv2.destroyAllWindows()\n",
    "\n",
    "    \n",
    "if __name__ == \"__main__\":\n",
    "    main()\n"
   ]
  },
  {
   "cell_type": "code",
   "execution_count": null,
   "id": "db6d2e41",
   "metadata": {},
   "outputs": [],
   "source": []
  },
  {
   "cell_type": "code",
   "execution_count": null,
   "id": "d83f4855",
   "metadata": {},
   "outputs": [],
   "source": []
  }
 ],
 "metadata": {
  "kernelspec": {
   "display_name": "Python 3 (ipykernel)",
   "language": "python",
   "name": "python3"
  },
  "language_info": {
   "codemirror_mode": {
    "name": "ipython",
    "version": 3
   },
   "file_extension": ".py",
   "mimetype": "text/x-python",
   "name": "python",
   "nbconvert_exporter": "python",
   "pygments_lexer": "ipython3",
   "version": "3.9.19"
  }
 },
 "nbformat": 4,
 "nbformat_minor": 5
}
